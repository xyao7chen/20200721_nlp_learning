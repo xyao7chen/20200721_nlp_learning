{
 "cells": [
  {
   "cell_type": "markdown",
   "metadata": {},
   "source": [
    "# Task1 + Task2"
   ]
  },
  {
   "cell_type": "markdown",
   "metadata": {},
   "source": [
    "## Understanding and exploratory"
   ]
  },
  {
   "cell_type": "markdown",
   "metadata": {},
   "source": [
    "Goal of this competition: \n",
    "\n",
    "- predict the category of each news. \n",
    "\n",
    "\n",
    "Evaluation: \n",
    "\n",
    "- Avg value of f1_score. \n",
    "\n",
    "- A comparation between submitting category result and real category data \n"
   ]
  },
  {
   "cell_type": "code",
   "execution_count": 81,
   "metadata": {},
   "outputs": [],
   "source": [
    "import pandas as pd\n",
    "import numpy as np\n",
    "import os\n",
    "import sys"
   ]
  },
  {
   "cell_type": "code",
   "execution_count": 104,
   "metadata": {},
   "outputs": [],
   "source": [
    "df_testa=pd.read_csv('C:/Chen/1_Coding/20200721_nlp_learning/test_a.csv',sep='\\t')"
   ]
  },
  {
   "cell_type": "code",
   "execution_count": 105,
   "metadata": {},
   "outputs": [],
   "source": [
    "df_train=pd.read_csv('C:/Chen/1_Coding/20200721_nlp_learning/train_set.csv',sep='\\t')"
   ]
  },
  {
   "cell_type": "code",
   "execution_count": 106,
   "metadata": {},
   "outputs": [
    {
     "name": "stderr",
     "output_type": "stream",
     "text": [
      "C:\\Users\\xingy\\Anaconda3\\lib\\site-packages\\pandas\\core\\frame.py:6692: FutureWarning: Sorting because non-concatenation axis is not aligned. A future version\n",
      "of pandas will change to not sort by default.\n",
      "\n",
      "To accept the future behavior, pass 'sort=False'.\n",
      "\n",
      "To retain the current behavior and silence the warning, pass 'sort=True'.\n",
      "\n",
      "  sort=sort)\n"
     ]
    },
    {
     "data": {
      "text/html": [
       "<div>\n",
       "<style scoped>\n",
       "    .dataframe tbody tr th:only-of-type {\n",
       "        vertical-align: middle;\n",
       "    }\n",
       "\n",
       "    .dataframe tbody tr th {\n",
       "        vertical-align: top;\n",
       "    }\n",
       "\n",
       "    .dataframe thead th {\n",
       "        text-align: right;\n",
       "    }\n",
       "</style>\n",
       "<table border=\"1\" class=\"dataframe\">\n",
       "  <thead>\n",
       "    <tr style=\"text-align: right;\">\n",
       "      <th></th>\n",
       "      <th>text</th>\n",
       "      <th>text_len</th>\n",
       "    </tr>\n",
       "  </thead>\n",
       "  <tbody>\n",
       "    <tr>\n",
       "      <th>0</th>\n",
       "      <td>5399 3117 1070 4321 4568 2621 5466 3772 4516 2...</td>\n",
       "      <td>NaN</td>\n",
       "    </tr>\n",
       "    <tr>\n",
       "      <th>1</th>\n",
       "      <td>2491 4109 1757 7539 648 3695 3038 4490 23 7019...</td>\n",
       "      <td>NaN</td>\n",
       "    </tr>\n",
       "    <tr>\n",
       "      <th>2</th>\n",
       "      <td>2673 5076 6835 2835 5948 5677 3247 4124 2465 5...</td>\n",
       "      <td>NaN</td>\n",
       "    </tr>\n",
       "    <tr>\n",
       "      <th>3</th>\n",
       "      <td>4562 4893 2210 4761 3659 1324 2595 5949 4583 2...</td>\n",
       "      <td>NaN</td>\n",
       "    </tr>\n",
       "    <tr>\n",
       "      <th>4</th>\n",
       "      <td>4269 7134 2614 1724 4464 1324 3370 3370 2106 2...</td>\n",
       "      <td>NaN</td>\n",
       "    </tr>\n",
       "    <tr>\n",
       "      <th>49995</th>\n",
       "      <td>3725 4498 2282 1647 6293 4245 4498 3615 1141 2...</td>\n",
       "      <td>1484.0</td>\n",
       "    </tr>\n",
       "    <tr>\n",
       "      <th>49996</th>\n",
       "      <td>4811 465 3800 1394 3038 2376 2327 5165 3070 57...</td>\n",
       "      <td>995.0</td>\n",
       "    </tr>\n",
       "    <tr>\n",
       "      <th>49997</th>\n",
       "      <td>5338 1952 3117 4109 299 6656 6654 3792 6831 21...</td>\n",
       "      <td>394.0</td>\n",
       "    </tr>\n",
       "    <tr>\n",
       "      <th>49998</th>\n",
       "      <td>893 3469 5775 584 2490 4223 6569 6663 2124 168...</td>\n",
       "      <td>957.0</td>\n",
       "    </tr>\n",
       "    <tr>\n",
       "      <th>49999</th>\n",
       "      <td>2400 4409 4412 2210 5122 4464 7186 2465 1327 9...</td>\n",
       "      <td>1728.0</td>\n",
       "    </tr>\n",
       "  </tbody>\n",
       "</table>\n",
       "</div>"
      ],
      "text/plain": [
       "                                                    text  text_len\n",
       "0      5399 3117 1070 4321 4568 2621 5466 3772 4516 2...       NaN\n",
       "1      2491 4109 1757 7539 648 3695 3038 4490 23 7019...       NaN\n",
       "2      2673 5076 6835 2835 5948 5677 3247 4124 2465 5...       NaN\n",
       "3      4562 4893 2210 4761 3659 1324 2595 5949 4583 2...       NaN\n",
       "4      4269 7134 2614 1724 4464 1324 3370 3370 2106 2...       NaN\n",
       "49995  3725 4498 2282 1647 6293 4245 4498 3615 1141 2...    1484.0\n",
       "49996  4811 465 3800 1394 3038 2376 2327 5165 3070 57...     995.0\n",
       "49997  5338 1952 3117 4109 299 6656 6654 3792 6831 21...     394.0\n",
       "49998  893 3469 5775 584 2490 4223 6569 6663 2124 168...     957.0\n",
       "49999  2400 4409 4412 2210 5122 4464 7186 2465 1327 9...    1728.0"
      ]
     },
     "execution_count": 106,
     "metadata": {},
     "output_type": "execute_result"
    }
   ],
   "source": [
    "df_output.head().append(df_test.tail())"
   ]
  },
  {
   "cell_type": "code",
   "execution_count": 107,
   "metadata": {},
   "outputs": [
    {
     "data": {
      "text/html": [
       "<div>\n",
       "<style scoped>\n",
       "    .dataframe tbody tr th:only-of-type {\n",
       "        vertical-align: middle;\n",
       "    }\n",
       "\n",
       "    .dataframe tbody tr th {\n",
       "        vertical-align: top;\n",
       "    }\n",
       "\n",
       "    .dataframe thead th {\n",
       "        text-align: right;\n",
       "    }\n",
       "</style>\n",
       "<table border=\"1\" class=\"dataframe\">\n",
       "  <thead>\n",
       "    <tr style=\"text-align: right;\">\n",
       "      <th></th>\n",
       "      <th>label</th>\n",
       "      <th>text</th>\n",
       "    </tr>\n",
       "  </thead>\n",
       "  <tbody>\n",
       "    <tr>\n",
       "      <th>0</th>\n",
       "      <td>2</td>\n",
       "      <td>2967 6758 339 2021 1854 3731 4109 3792 4149 15...</td>\n",
       "    </tr>\n",
       "    <tr>\n",
       "      <th>1</th>\n",
       "      <td>11</td>\n",
       "      <td>4464 486 6352 5619 2465 4802 1452 3137 5778 54...</td>\n",
       "    </tr>\n",
       "    <tr>\n",
       "      <th>2</th>\n",
       "      <td>3</td>\n",
       "      <td>7346 4068 5074 3747 5681 6093 1777 2226 7354 6...</td>\n",
       "    </tr>\n",
       "    <tr>\n",
       "      <th>3</th>\n",
       "      <td>2</td>\n",
       "      <td>7159 948 4866 2109 5520 2490 211 3956 5520 549...</td>\n",
       "    </tr>\n",
       "    <tr>\n",
       "      <th>4</th>\n",
       "      <td>3</td>\n",
       "      <td>3646 3055 3055 2490 4659 6065 3370 5814 2465 5...</td>\n",
       "    </tr>\n",
       "    <tr>\n",
       "      <th>199995</th>\n",
       "      <td>2</td>\n",
       "      <td>307 4894 7539 4853 5330 648 6038 4409 3764 603...</td>\n",
       "    </tr>\n",
       "    <tr>\n",
       "      <th>199996</th>\n",
       "      <td>2</td>\n",
       "      <td>3792 2983 355 1070 4464 5050 6298 3782 3130 68...</td>\n",
       "    </tr>\n",
       "    <tr>\n",
       "      <th>199997</th>\n",
       "      <td>11</td>\n",
       "      <td>6811 1580 7539 1252 1899 5139 1386 3870 4124 1...</td>\n",
       "    </tr>\n",
       "    <tr>\n",
       "      <th>199998</th>\n",
       "      <td>2</td>\n",
       "      <td>6405 3203 6644 983 794 1913 1678 5736 1397 191...</td>\n",
       "    </tr>\n",
       "    <tr>\n",
       "      <th>199999</th>\n",
       "      <td>3</td>\n",
       "      <td>4350 3878 3268 1699 6909 5505 2376 2465 6088 2...</td>\n",
       "    </tr>\n",
       "  </tbody>\n",
       "</table>\n",
       "</div>"
      ],
      "text/plain": [
       "        label                                               text\n",
       "0           2  2967 6758 339 2021 1854 3731 4109 3792 4149 15...\n",
       "1          11  4464 486 6352 5619 2465 4802 1452 3137 5778 54...\n",
       "2           3  7346 4068 5074 3747 5681 6093 1777 2226 7354 6...\n",
       "3           2  7159 948 4866 2109 5520 2490 211 3956 5520 549...\n",
       "4           3  3646 3055 3055 2490 4659 6065 3370 5814 2465 5...\n",
       "199995      2  307 4894 7539 4853 5330 648 6038 4409 3764 603...\n",
       "199996      2  3792 2983 355 1070 4464 5050 6298 3782 3130 68...\n",
       "199997     11  6811 1580 7539 1252 1899 5139 1386 3870 4124 1...\n",
       "199998      2  6405 3203 6644 983 794 1913 1678 5736 1397 191...\n",
       "199999      3  4350 3878 3268 1699 6909 5505 2376 2465 6088 2..."
      ]
     },
     "execution_count": 107,
     "metadata": {},
     "output_type": "execute_result"
    }
   ],
   "source": [
    "df_train.head().append(df_train.tail())"
   ]
  },
  {
   "cell_type": "code",
   "execution_count": 108,
   "metadata": {},
   "outputs": [
    {
     "name": "stdout",
     "output_type": "stream",
     "text": [
      "<class 'pandas.core.frame.DataFrame'>\n",
      "RangeIndex: 200000 entries, 0 to 199999\n",
      "Data columns (total 2 columns):\n",
      "label    200000 non-null int64\n",
      "text     200000 non-null object\n",
      "dtypes: int64(1), object(1)\n",
      "memory usage: 3.1+ MB\n"
     ]
    }
   ],
   "source": [
    "df_train.info()"
   ]
  },
  {
   "cell_type": "code",
   "execution_count": 109,
   "metadata": {},
   "outputs": [
    {
     "name": "stdout",
     "output_type": "stream",
     "text": [
      "<class 'pandas.core.frame.DataFrame'>\n",
      "RangeIndex: 50000 entries, 0 to 49999\n",
      "Data columns (total 1 columns):\n",
      "text    50000 non-null object\n",
      "dtypes: object(1)\n",
      "memory usage: 390.7+ KB\n"
     ]
    }
   ],
   "source": [
    "df_testa.info()"
   ]
  },
  {
   "cell_type": "code",
   "execution_count": 110,
   "metadata": {},
   "outputs": [
    {
     "data": {
      "text/html": [
       "<div>\n",
       "<style scoped>\n",
       "    .dataframe tbody tr th:only-of-type {\n",
       "        vertical-align: middle;\n",
       "    }\n",
       "\n",
       "    .dataframe tbody tr th {\n",
       "        vertical-align: top;\n",
       "    }\n",
       "\n",
       "    .dataframe thead th {\n",
       "        text-align: right;\n",
       "    }\n",
       "</style>\n",
       "<table border=\"1\" class=\"dataframe\">\n",
       "  <thead>\n",
       "    <tr style=\"text-align: right;\">\n",
       "      <th></th>\n",
       "      <th>label</th>\n",
       "    </tr>\n",
       "  </thead>\n",
       "  <tbody>\n",
       "    <tr>\n",
       "      <th>count</th>\n",
       "      <td>200000.000000</td>\n",
       "    </tr>\n",
       "    <tr>\n",
       "      <th>mean</th>\n",
       "      <td>3.210950</td>\n",
       "    </tr>\n",
       "    <tr>\n",
       "      <th>std</th>\n",
       "      <td>3.084955</td>\n",
       "    </tr>\n",
       "    <tr>\n",
       "      <th>min</th>\n",
       "      <td>0.000000</td>\n",
       "    </tr>\n",
       "    <tr>\n",
       "      <th>25%</th>\n",
       "      <td>1.000000</td>\n",
       "    </tr>\n",
       "    <tr>\n",
       "      <th>50%</th>\n",
       "      <td>2.000000</td>\n",
       "    </tr>\n",
       "    <tr>\n",
       "      <th>75%</th>\n",
       "      <td>5.000000</td>\n",
       "    </tr>\n",
       "    <tr>\n",
       "      <th>max</th>\n",
       "      <td>13.000000</td>\n",
       "    </tr>\n",
       "  </tbody>\n",
       "</table>\n",
       "</div>"
      ],
      "text/plain": [
       "               label\n",
       "count  200000.000000\n",
       "mean        3.210950\n",
       "std         3.084955\n",
       "min         0.000000\n",
       "25%         1.000000\n",
       "50%         2.000000\n",
       "75%         5.000000\n",
       "max        13.000000"
      ]
     },
     "execution_count": 110,
     "metadata": {},
     "output_type": "execute_result"
    }
   ],
   "source": [
    "df_train.describe()"
   ]
  },
  {
   "cell_type": "code",
   "execution_count": 111,
   "metadata": {},
   "outputs": [
    {
     "data": {
      "text/html": [
       "<div>\n",
       "<style scoped>\n",
       "    .dataframe tbody tr th:only-of-type {\n",
       "        vertical-align: middle;\n",
       "    }\n",
       "\n",
       "    .dataframe tbody tr th {\n",
       "        vertical-align: top;\n",
       "    }\n",
       "\n",
       "    .dataframe thead th {\n",
       "        text-align: right;\n",
       "    }\n",
       "</style>\n",
       "<table border=\"1\" class=\"dataframe\">\n",
       "  <thead>\n",
       "    <tr style=\"text-align: right;\">\n",
       "      <th></th>\n",
       "      <th>text</th>\n",
       "    </tr>\n",
       "  </thead>\n",
       "  <tbody>\n",
       "    <tr>\n",
       "      <th>count</th>\n",
       "      <td>50000</td>\n",
       "    </tr>\n",
       "    <tr>\n",
       "      <th>unique</th>\n",
       "      <td>49995</td>\n",
       "    </tr>\n",
       "    <tr>\n",
       "      <th>top</th>\n",
       "      <td>2538 2506 1363 5466 3772 340 922 433 2397 5778...</td>\n",
       "    </tr>\n",
       "    <tr>\n",
       "      <th>freq</th>\n",
       "      <td>4</td>\n",
       "    </tr>\n",
       "  </tbody>\n",
       "</table>\n",
       "</div>"
      ],
      "text/plain": [
       "                                                     text\n",
       "count                                               50000\n",
       "unique                                              49995\n",
       "top     2538 2506 1363 5466 3772 340 922 433 2397 5778...\n",
       "freq                                                    4"
      ]
     },
     "execution_count": 111,
     "metadata": {},
     "output_type": "execute_result"
    }
   ],
   "source": [
    "df_testa.describe()"
   ]
  },
  {
   "cell_type": "code",
   "execution_count": 112,
   "metadata": {},
   "outputs": [
    {
     "name": "stdout",
     "output_type": "stream",
     "text": [
      "count    50000.000000\n",
      "mean       904.589900\n",
      "std        961.345267\n",
      "min          2.000000\n",
      "25%        373.000000\n",
      "50%        670.500000\n",
      "75%       1123.000000\n",
      "max      44665.000000\n",
      "Name: text_len, dtype: float64\n"
     ]
    }
   ],
   "source": [
    "#In order to know the length of sentences\n",
    "#The number of words in sentence\n",
    "df_train['text_len'] = df_train['text'].apply(lambda x: len(x.split(' ')))\n",
    "print(df_test['text_len'].describe())"
   ]
  },
  {
   "cell_type": "markdown",
   "metadata": {},
   "source": [
    "In resume, this competition gives relatively long sentences. A sentence is composed by 907 words in average, with the minimum length of 2, and the maximum length of 44665 words."
   ]
  },
  {
   "cell_type": "code",
   "execution_count": 113,
   "metadata": {},
   "outputs": [],
   "source": [
    "import matplotlib\n",
    "import matplotlib.pyplot as plt"
   ]
  },
  {
   "cell_type": "code",
   "execution_count": 116,
   "metadata": {},
   "outputs": [],
   "source": [
    "#df_train"
   ]
  },
  {
   "cell_type": "markdown",
   "metadata": {},
   "source": [
    "### Viz of sentences' length"
   ]
  },
  {
   "cell_type": "code",
   "execution_count": 115,
   "metadata": {},
   "outputs": [
    {
     "data": {
      "text/plain": [
       "Text(0.5, 1.0, 'Histogram of char count')"
      ]
     },
     "execution_count": 115,
     "metadata": {},
     "output_type": "execute_result"
    },
    {
     "data": {
      "image/png": "[encoded data removed]",
      "text/plain": [
       "<Figure size 432x288 with 1 Axes>"
      ]
     },
     "metadata": {
      "needs_background": "light"
     },
     "output_type": "display_data"
    }
   ],
   "source": [
    "#Viz of sentences' length\n",
    "_ = plt.hist(df_train['text_len'], bins=200)\n",
    "plt.xlabel('Text char count')\n",
    "plt.title(\"Histogram of char count\")"
   ]
  },
  {
   "cell_type": "markdown",
   "metadata": {},
   "source": [
    "### Viz of news category"
   ]
  },
  {
   "cell_type": "code",
   "execution_count": 117,
   "metadata": {},
   "outputs": [
    {
     "data": {
      "text/plain": [
       "Text(0.5, 0, 'category')"
      ]
     },
     "execution_count": 117,
     "metadata": {},
     "output_type": "execute_result"
    },
    {
     "data": {
      "image/png": "[encoded data removed]",
      "text/plain": [
       "<Figure size 432x288 with 1 Axes>"
      ]
     },
     "metadata": {
      "needs_background": "light"
     },
     "output_type": "display_data"
    }
   ],
   "source": [
    "#Viz of news category\n",
    "df_train['label'].value_counts().plot(kind='bar')\n",
    "plt.title('News class count')\n",
    "plt.xlabel(\"category\")"
   ]
  },
  {
   "cell_type": "markdown",
   "metadata": {},
   "source": [
    "在数据集中标签的对应的关系如下：{'科技': 0, '股票': 1, '体育': 2, '娱乐': 3, '时政': 4, '社会': 5, '教育': 6, '财经': 7, '家居': 8, '游戏': 9, '房产': 10, '时尚': 11, '彩票': 12, '星座': 13}\n",
    "从统计结果可以看出，赛题的数据集类别分布存在较为不均匀的情况。在训练集中科技类新闻最多，其次是股票类新闻，最少的新闻是星座新闻。"
   ]
  },
  {
   "cell_type": "markdown",
   "metadata": {},
   "source": [
    "### Word frequencty"
   ]
  },
  {
   "cell_type": "code",
   "execution_count": 118,
   "metadata": {},
   "outputs": [],
   "source": [
    "from collections import Counter"
   ]
  },
  {
   "cell_type": "markdown",
   "metadata": {},
   "source": [
    "#### Find the most/least frequent word"
   ]
  },
  {
   "cell_type": "code",
   "execution_count": 135,
   "metadata": {},
   "outputs": [
    {
     "data": {
      "text/plain": [
       "str"
      ]
     },
     "execution_count": 135,
     "metadata": {},
     "output_type": "execute_result"
    }
   ],
   "source": [
    "all_lines = ' '.join(list(df_train['text']))\n",
    "type(all_lines)"
   ]
  },
  {
   "cell_type": "code",
   "execution_count": 136,
   "metadata": {},
   "outputs": [],
   "source": [
    "word_count = Counter(all_lines.split(\" \"))\n",
    "word_count = sorted(word_count.items(), key=lambda d:int(d[1]), reverse = True)"
   ]
  },
  {
   "cell_type": "code",
   "execution_count": 137,
   "metadata": {},
   "outputs": [
    {
     "name": "stdout",
     "output_type": "stream",
     "text": [
      "6869\n"
     ]
    }
   ],
   "source": [
    "print(len(word_count))\n",
    "# in total there are 6869 words in the dataset"
   ]
  },
  {
   "cell_type": "code",
   "execution_count": 139,
   "metadata": {},
   "outputs": [
    {
     "name": "stdout",
     "output_type": "stream",
     "text": [
      "('3750', 7482224)\n",
      "('648', 4924890)\n",
      "('900', 3262544)\n",
      "('3370', 2020958)\n",
      "('6122', 1602363)\n"
     ]
    }
   ],
   "source": [
    "print(word_count[0])\n",
    "print(word_count[1])\n",
    "print(word_count[2])\n",
    "print(word_count[3])\n",
    "print(word_count[4])"
   ]
  },
  {
   "cell_type": "code",
   "execution_count": 140,
   "metadata": {},
   "outputs": [
    {
     "name": "stdout",
     "output_type": "stream",
     "text": [
      "('3133', 1)\n"
     ]
    }
   ],
   "source": [
    "print(word_count[-1])"
   ]
  },
  {
   "cell_type": "markdown",
   "metadata": {},
   "source": [
    "#### Find punctuation marks"
   ]
  },
  {
   "cell_type": "markdown",
   "metadata": {},
   "source": [
    "这里还可以根据字在每个句子的出现情况，反推出标点符号。下面代码统计了不同字符在句子中出现的次数，其中字符3750，字符900和字符648在20w新闻的覆盖率接近99%，很有可能是标点符号。"
   ]
  },
  {
   "cell_type": "code",
   "execution_count": 141,
   "metadata": {},
   "outputs": [
    {
     "data": {
      "text/html": [
       "<div>\n",
       "<style scoped>\n",
       "    .dataframe tbody tr th:only-of-type {\n",
       "        vertical-align: middle;\n",
       "    }\n",
       "\n",
       "    .dataframe tbody tr th {\n",
       "        vertical-align: top;\n",
       "    }\n",
       "\n",
       "    .dataframe thead th {\n",
       "        text-align: right;\n",
       "    }\n",
       "</style>\n",
       "<table border=\"1\" class=\"dataframe\">\n",
       "  <thead>\n",
       "    <tr style=\"text-align: right;\">\n",
       "      <th></th>\n",
       "      <th>label</th>\n",
       "      <th>text</th>\n",
       "      <th>text_len</th>\n",
       "      <th>text_unique</th>\n",
       "    </tr>\n",
       "  </thead>\n",
       "  <tbody>\n",
       "    <tr>\n",
       "      <th>0</th>\n",
       "      <td>2</td>\n",
       "      <td>2967 6758 339 2021 1854 3731 4109 3792 4149 15...</td>\n",
       "      <td>1057</td>\n",
       "      <td>7305 5598 885 307 4148 2192 7440 1991 7029 316...</td>\n",
       "    </tr>\n",
       "    <tr>\n",
       "      <th>1</th>\n",
       "      <td>11</td>\n",
       "      <td>4464 486 6352 5619 2465 4802 1452 3137 5778 54...</td>\n",
       "      <td>486</td>\n",
       "      <td>6875 62 1394 307 6395 478 6919 4939 5938 6182 ...</td>\n",
       "    </tr>\n",
       "    <tr>\n",
       "      <th>2</th>\n",
       "      <td>3</td>\n",
       "      <td>7346 4068 5074 3747 5681 6093 1777 2226 7354 6...</td>\n",
       "      <td>764</td>\n",
       "      <td>4351 383 5598 7025 1325 5640 2192 2570 3263 44...</td>\n",
       "    </tr>\n",
       "    <tr>\n",
       "      <th>3</th>\n",
       "      <td>2</td>\n",
       "      <td>7159 948 4866 2109 5520 2490 211 3956 5520 549...</td>\n",
       "      <td>1570</td>\n",
       "      <td>790 1070 1582 5598 307 5284 4148 3469 2192 233...</td>\n",
       "    </tr>\n",
       "    <tr>\n",
       "      <th>4</th>\n",
       "      <td>3</td>\n",
       "      <td>3646 3055 3055 2490 4659 6065 3370 5814 2465 5...</td>\n",
       "      <td>307</td>\n",
       "      <td>5264 751 1906 462 4351 1043 1722 5909 1394 559...</td>\n",
       "    </tr>\n",
       "    <tr>\n",
       "      <th>5</th>\n",
       "      <td>9</td>\n",
       "      <td>3819 4525 1129 6725 6485 2109 3800 5264 1006 4...</td>\n",
       "      <td>1050</td>\n",
       "      <td>462 4351 1070 5385 1582 5598 307 736 6919 2334...</td>\n",
       "    </tr>\n",
       "    <tr>\n",
       "      <th>6</th>\n",
       "      <td>3</td>\n",
       "      <td>307 4780 6811 1580 7539 5886 5486 3433 6644 58...</td>\n",
       "      <td>267</td>\n",
       "      <td>3613 462 5486 5385 1394 5598 307 1519 4939 422...</td>\n",
       "    </tr>\n",
       "    <tr>\n",
       "      <th>7</th>\n",
       "      <td>10</td>\n",
       "      <td>26 4270 1866 5977 3523 3764 4464 3659 4853 517...</td>\n",
       "      <td>876</td>\n",
       "      <td>6078 7305 462 6176 1070 6968 383 1582 5598 885...</td>\n",
       "    </tr>\n",
       "    <tr>\n",
       "      <th>8</th>\n",
       "      <td>12</td>\n",
       "      <td>2708 2218 5915 4559 886 1241 4819 314 4261 166...</td>\n",
       "      <td>314</td>\n",
       "      <td>6220 4261 5330 751 1906 790 3223 920 3700 2477...</td>\n",
       "    </tr>\n",
       "    <tr>\n",
       "      <th>9</th>\n",
       "      <td>3</td>\n",
       "      <td>3654 531 1348 29 4553 6722 1474 5099 7541 307 ...</td>\n",
       "      <td>1086</td>\n",
       "      <td>2151 3515 4504 790 1906 4351 531 1871 5486 561...</td>\n",
       "    </tr>\n",
       "    <tr>\n",
       "      <th>10</th>\n",
       "      <td>0</td>\n",
       "      <td>3659 3659 1903 1866 4326 4744 7239 3479 4261 4...</td>\n",
       "      <td>983</td>\n",
       "      <td>7305 4351 6176 5598 6919 5284 4148 2192 2004 3...</td>\n",
       "    </tr>\n",
       "    <tr>\n",
       "      <th>11</th>\n",
       "      <td>7</td>\n",
       "      <td>6469 1066 1623 1018 3694 4089 3809 4516 6656 3...</td>\n",
       "      <td>441</td>\n",
       "      <td>1906 2446 1722 6333 1519 307 2674 3335 2004 45...</td>\n",
       "    </tr>\n",
       "    <tr>\n",
       "      <th>12</th>\n",
       "      <td>4</td>\n",
       "      <td>3772 4269 3433 6122 2035 4531 465 6565 498 358...</td>\n",
       "      <td>446</td>\n",
       "      <td>1906 531 6375 1401 4547 1519 2602 736 5037 691...</td>\n",
       "    </tr>\n",
       "    <tr>\n",
       "      <th>13</th>\n",
       "      <td>0</td>\n",
       "      <td>4630 2210 1641 1854 1641 4543 3017 4409 5430 6...</td>\n",
       "      <td>191</td>\n",
       "      <td>531 6206 2967 826 1702 5778 4399 4412 7008 913...</td>\n",
       "    </tr>\n",
       "    <tr>\n",
       "      <th>14</th>\n",
       "      <td>0</td>\n",
       "      <td>1103 6835 3433 2107 5165 7543 3598 5229 1946 2...</td>\n",
       "      <td>723</td>\n",
       "      <td>1070 5598 885 3242 307 6375 1255 2838 1407 316...</td>\n",
       "    </tr>\n",
       "    <tr>\n",
       "      <th>15</th>\n",
       "      <td>1</td>\n",
       "      <td>4412 5988 5036 4216 7539 5644 1906 2380 2252 6...</td>\n",
       "      <td>857</td>\n",
       "      <td>1906 7006 2446 462 5909 62 383 1582 885 1401 1...</td>\n",
       "    </tr>\n",
       "    <tr>\n",
       "      <th>16</th>\n",
       "      <td>1</td>\n",
       "      <td>2400 4411 5968 2612 6920 4464 3659 6250 2799 5...</td>\n",
       "      <td>206</td>\n",
       "      <td>5612 5640 307 1519 3242 1702 4939 3335 5466 57...</td>\n",
       "    </tr>\n",
       "    <tr>\n",
       "      <th>17</th>\n",
       "      <td>2</td>\n",
       "      <td>2410 6587 6644 2727 4109 5247 5310 5547 5949 7...</td>\n",
       "      <td>1034</td>\n",
       "      <td>7305 1906 4351 426 5006 1070 4993 5909 6333 61...</td>\n",
       "    </tr>\n",
       "    <tr>\n",
       "      <th>18</th>\n",
       "      <td>4</td>\n",
       "      <td>3170 3508 4163 2974 1952 4417 4987 5505 4163 2...</td>\n",
       "      <td>522</td>\n",
       "      <td>2998 531 5598 307 1702 4939 6759 5284 980 5089...</td>\n",
       "    </tr>\n",
       "    <tr>\n",
       "      <th>19</th>\n",
       "      <td>2</td>\n",
       "      <td>4269 3772 5445 2289 2109 5410 1991 5589 2986 1...</td>\n",
       "      <td>405</td>\n",
       "      <td>5264 531 5612 62 6414 4547 5598 307 1702 4939 ...</td>\n",
       "    </tr>\n",
       "    <tr>\n",
       "      <th>20</th>\n",
       "      <td>0</td>\n",
       "      <td>6569 4690 2663 5391 1315 3987 1519 4893 7539 3...</td>\n",
       "      <td>1178</td>\n",
       "      <td>4351 6176 383 6968 5598 307 5284 5498 3166 145...</td>\n",
       "    </tr>\n",
       "    <tr>\n",
       "      <th>21</th>\n",
       "      <td>1</td>\n",
       "      <td>3017 505 1070 1036 2621 4480 5117 3772 4786 56...</td>\n",
       "      <td>872</td>\n",
       "      <td>2477 790 2446 531 1070 5612 62 5746 5598 3242 ...</td>\n",
       "    </tr>\n",
       "    <tr>\n",
       "      <th>22</th>\n",
       "      <td>2</td>\n",
       "      <td>3263 6104 7539 5744 2827 2367 4893 1647 4315 1...</td>\n",
       "      <td>667</td>\n",
       "      <td>1906 3613 531 1070 5486 7335 1582 1844 307 503...</td>\n",
       "    </tr>\n",
       "    <tr>\n",
       "      <th>23</th>\n",
       "      <td>2</td>\n",
       "      <td>3418 1939 220 6886 623 149 1679 3099 1324 7543...</td>\n",
       "      <td>703</td>\n",
       "      <td>2477 1906 790 531 5006 6176 2967 1070 1722 139...</td>\n",
       "    </tr>\n",
       "    <tr>\n",
       "      <th>24</th>\n",
       "      <td>12</td>\n",
       "      <td>314 4261 1667 2810 2334 5176 2376 4646 478 132...</td>\n",
       "      <td>434</td>\n",
       "      <td>101 7305 5006 1070 6333 5598 3242 478 1519 307...</td>\n",
       "    </tr>\n",
       "    <tr>\n",
       "      <th>25</th>\n",
       "      <td>4</td>\n",
       "      <td>7154 2592 5562 2828 4559 2376 5780 3650 3203 5...</td>\n",
       "      <td>597</td>\n",
       "      <td>101 2477 7305 2446 531 1722 5612 6968 5598 140...</td>\n",
       "    </tr>\n",
       "    <tr>\n",
       "      <th>26</th>\n",
       "      <td>3</td>\n",
       "      <td>1965 2717 2728 1951 3744 4831 5698 3915 5099 5...</td>\n",
       "      <td>292</td>\n",
       "      <td>531 5612 2967 1394 5598 1401 1248 1519 1702 35...</td>\n",
       "    </tr>\n",
       "    <tr>\n",
       "      <th>27</th>\n",
       "      <td>4</td>\n",
       "      <td>6861 6654 1362 4333 3272 1697 7044 1519 4516 4...</td>\n",
       "      <td>306</td>\n",
       "      <td>7305 761 4509 1394 1582 1844 5598 4547 1519 82...</td>\n",
       "    </tr>\n",
       "    <tr>\n",
       "      <th>28</th>\n",
       "      <td>1</td>\n",
       "      <td>1141 5915 6178 4842 6725 7261 7408 4671 6846 5...</td>\n",
       "      <td>1096</td>\n",
       "      <td>7305 462 5598 885 5640 307 736 6919 5284 4183 ...</td>\n",
       "    </tr>\n",
       "    <tr>\n",
       "      <th>29</th>\n",
       "      <td>1</td>\n",
       "      <td>2289 6357 3577 751 2402 3377 5589 4853 7467 51...</td>\n",
       "      <td>489</td>\n",
       "      <td>751 3577 7305 5612 1844 1519 826 1702 6759 414...</td>\n",
       "    </tr>\n",
       "    <tr>\n",
       "      <th>...</th>\n",
       "      <td>...</td>\n",
       "      <td>...</td>\n",
       "      <td>...</td>\n",
       "      <td>...</td>\n",
       "    </tr>\n",
       "    <tr>\n",
       "      <th>199970</th>\n",
       "      <td>7</td>\n",
       "      <td>6835 5296 1854 5036 1844 2400 2438 6093 3961 1...</td>\n",
       "      <td>1502</td>\n",
       "      <td>1070 5598 307 736 4148 2192 2838 7029 3166 628...</td>\n",
       "    </tr>\n",
       "    <tr>\n",
       "      <th>199971</th>\n",
       "      <td>4</td>\n",
       "      <td>56 4411 5410 1215 3912 1829 6613 1563 4040 125...</td>\n",
       "      <td>514</td>\n",
       "      <td>2151 2477 1906 3299 531 1722 5612 62 1394 5598...</td>\n",
       "    </tr>\n",
       "    <tr>\n",
       "      <th>199972</th>\n",
       "      <td>0</td>\n",
       "      <td>623 6637 6680 4893 4063 6111 5330 2465 1744 41...</td>\n",
       "      <td>824</td>\n",
       "      <td>101 761 3577 3117 6206 1871 5612 5598 1844 885...</td>\n",
       "    </tr>\n",
       "    <tr>\n",
       "      <th>199973</th>\n",
       "      <td>0</td>\n",
       "      <td>4923 7449 3055 1116 2289 1736 531 7539 5269 18...</td>\n",
       "      <td>2543</td>\n",
       "      <td>790 4351 4335 1582 7025 5598 3242 307 885 736 ...</td>\n",
       "    </tr>\n",
       "    <tr>\n",
       "      <th>199974</th>\n",
       "      <td>1</td>\n",
       "      <td>2642 4909 7306 2549 7539 3107 2549 2328 2164 5...</td>\n",
       "      <td>837</td>\n",
       "      <td>2151 2446 6206 1722 5612 2967 62 6333 531 5598...</td>\n",
       "    </tr>\n",
       "    <tr>\n",
       "      <th>199975</th>\n",
       "      <td>2</td>\n",
       "      <td>3661 1731 6352 3508 531 4998 5315 851 5530 663...</td>\n",
       "      <td>1143</td>\n",
       "      <td>5598 5640 2838 3166 1457 6289 3263 4340 1839 4...</td>\n",
       "    </tr>\n",
       "    <tr>\n",
       "      <th>199976</th>\n",
       "      <td>2</td>\n",
       "      <td>6405 3203 6644 4350 3568 5094 5221 4958 3608 7...</td>\n",
       "      <td>204</td>\n",
       "      <td>7305 3117 2847 62 1394 5284 4148 2838 1245 207...</td>\n",
       "    </tr>\n",
       "    <tr>\n",
       "      <th>199977</th>\n",
       "      <td>2</td>\n",
       "      <td>6227 6227 4333 4183 3792 2490 3971 408 671 715...</td>\n",
       "      <td>389</td>\n",
       "      <td>5264 4351 3873 5006 62 5598 1844 1519 307 1702...</td>\n",
       "    </tr>\n",
       "    <tr>\n",
       "      <th>199978</th>\n",
       "      <td>2</td>\n",
       "      <td>4173 5603 4960 150 2679 2376 5530 5057 669 356...</td>\n",
       "      <td>1570</td>\n",
       "      <td>7305 7223 6176 1070 5598 885 5640 6919 5284 13...</td>\n",
       "    </tr>\n",
       "    <tr>\n",
       "      <th>199979</th>\n",
       "      <td>2</td>\n",
       "      <td>6549 2313 3743 6065 4464 7543 4173 2828 3012 5...</td>\n",
       "      <td>1014</td>\n",
       "      <td>531 5006 6176 1070 62 6333 1394 1722 5617 1582...</td>\n",
       "    </tr>\n",
       "    <tr>\n",
       "      <th>199980</th>\n",
       "      <td>5</td>\n",
       "      <td>1334 3923 7532 6045 4553 4775 3018 7013 6983 4...</td>\n",
       "      <td>1687</td>\n",
       "      <td>7305 3299 6176 5598 7025 5640 6919 2192 5498 1...</td>\n",
       "    </tr>\n",
       "    <tr>\n",
       "      <th>199981</th>\n",
       "      <td>5</td>\n",
       "      <td>6357 150 4233 23 4811 2334 3317 7010 5282 3971...</td>\n",
       "      <td>701</td>\n",
       "      <td>2151 7305 2446 6206 1722 5486 5612 6162 1844 1...</td>\n",
       "    </tr>\n",
       "    <tr>\n",
       "      <th>199982</th>\n",
       "      <td>4</td>\n",
       "      <td>4411 150 5480 307 6973 2364 3648 5370 2380 620...</td>\n",
       "      <td>596</td>\n",
       "      <td>1906 790 751 6206 1394 1582 5598 1401 885 307 ...</td>\n",
       "    </tr>\n",
       "    <tr>\n",
       "      <th>199983</th>\n",
       "      <td>1</td>\n",
       "      <td>847 3809 5385 281 4301 3560 3809 3694 299 6656...</td>\n",
       "      <td>206</td>\n",
       "      <td>5264 2477 5385 5598 1519 5037 307 4939 3335 67...</td>\n",
       "    </tr>\n",
       "    <tr>\n",
       "      <th>199984</th>\n",
       "      <td>0</td>\n",
       "      <td>7544 134 5659 6065 4646 3370 803 469 7047 2415...</td>\n",
       "      <td>615</td>\n",
       "      <td>2151 974 3515 2477 751 531 2967 5612 62 6333 3...</td>\n",
       "    </tr>\n",
       "    <tr>\n",
       "      <th>199985</th>\n",
       "      <td>0</td>\n",
       "      <td>5057 1859 7449 4659 4543 3976 2465 2515 3329 2...</td>\n",
       "      <td>1441</td>\n",
       "      <td>7305 1582 5598 885 3242 5640 6919 4148 5284 13...</td>\n",
       "    </tr>\n",
       "    <tr>\n",
       "      <th>199986</th>\n",
       "      <td>3</td>\n",
       "      <td>141 6956 7528 7495 7354 5681 5530 2112 3000 28...</td>\n",
       "      <td>346</td>\n",
       "      <td>2151 4351 4205 5486 5612 5598 478 1702 4939 52...</td>\n",
       "    </tr>\n",
       "    <tr>\n",
       "      <th>199987</th>\n",
       "      <td>2</td>\n",
       "      <td>3000 3148 5139 5977 2490 1308 5498 2289 2614 2...</td>\n",
       "      <td>447</td>\n",
       "      <td>5264 4351 6748 1070 2847 62 2967 1394 5598 736...</td>\n",
       "    </tr>\n",
       "    <tr>\n",
       "      <th>199988</th>\n",
       "      <td>4</td>\n",
       "      <td>517 5620 2986 7539 2255 3915 5445 1460 6587 42...</td>\n",
       "      <td>1333</td>\n",
       "      <td>7305 3299 5640 5284 2004 2739 3166 1457 6886 2...</td>\n",
       "    </tr>\n",
       "    <tr>\n",
       "      <th>199989</th>\n",
       "      <td>1</td>\n",
       "      <td>3469 3772 3117 4413 2313 3743 1070 2107 2621 5...</td>\n",
       "      <td>305</td>\n",
       "      <td>2477 7305 3117 1070 5598 3242 1519 307 1702 33...</td>\n",
       "    </tr>\n",
       "    <tr>\n",
       "      <th>199990</th>\n",
       "      <td>4</td>\n",
       "      <td>6811 1580 7539 6193 5169 7219 2022 5296 2364 4...</td>\n",
       "      <td>123</td>\n",
       "      <td>5264 7399 1351 2446 5039 531 3700 6115 5169 15...</td>\n",
       "    </tr>\n",
       "    <tr>\n",
       "      <th>199991</th>\n",
       "      <td>2</td>\n",
       "      <td>5511 4893 2115 5192 3934 6256 3554 2457 2282 1...</td>\n",
       "      <td>1142</td>\n",
       "      <td>790 6176 1070 4335 5598 7025 885 307 5640 6256...</td>\n",
       "    </tr>\n",
       "    <tr>\n",
       "      <th>199992</th>\n",
       "      <td>0</td>\n",
       "      <td>3479 6662 1913 4641 2465 2465 495 4516 1146 69...</td>\n",
       "      <td>406</td>\n",
       "      <td>6875 1043 6206 5909 62 383 5598 1401 307 4939 ...</td>\n",
       "    </tr>\n",
       "    <tr>\n",
       "      <th>199993</th>\n",
       "      <td>0</td>\n",
       "      <td>1363 4409 2210 3961 5736 2539 3012 2380 5689 2...</td>\n",
       "      <td>180</td>\n",
       "      <td>1906 6206 6333 5598 1844 307 1519 1702 1407 20...</td>\n",
       "    </tr>\n",
       "    <tr>\n",
       "      <th>199994</th>\n",
       "      <td>3</td>\n",
       "      <td>1640 5310 2923 913 7109 6992 6722 6337 3982 73...</td>\n",
       "      <td>3007</td>\n",
       "      <td>5006 1070 6176 7025 5598 885 4278 6919 2192 20...</td>\n",
       "    </tr>\n",
       "    <tr>\n",
       "      <th>199995</th>\n",
       "      <td>2</td>\n",
       "      <td>307 4894 7539 4853 5330 648 6038 4409 3764 603...</td>\n",
       "      <td>868</td>\n",
       "      <td>761 7006 462 751 3577 1722 5612 1070 5006 6333...</td>\n",
       "    </tr>\n",
       "    <tr>\n",
       "      <th>199996</th>\n",
       "      <td>2</td>\n",
       "      <td>3792 2983 355 1070 4464 5050 6298 3782 3130 68...</td>\n",
       "      <td>1142</td>\n",
       "      <td>7305 5006 1070 5598 885 307 5284 2192 6223 692...</td>\n",
       "    </tr>\n",
       "    <tr>\n",
       "      <th>199997</th>\n",
       "      <td>11</td>\n",
       "      <td>6811 1580 7539 1252 1899 5139 1386 3870 4124 1...</td>\n",
       "      <td>1180</td>\n",
       "      <td>1070 383 1582 5598 1348 4148 2192 1384 6870 31...</td>\n",
       "    </tr>\n",
       "    <tr>\n",
       "      <th>199998</th>\n",
       "      <td>2</td>\n",
       "      <td>6405 3203 6644 983 794 1913 1678 5736 1397 191...</td>\n",
       "      <td>179</td>\n",
       "      <td>7305 1722 1070 6176 5598 1702 5284 1678 2838 1...</td>\n",
       "    </tr>\n",
       "    <tr>\n",
       "      <th>199999</th>\n",
       "      <td>3</td>\n",
       "      <td>4350 3878 3268 1699 6909 5505 2376 2465 6088 2...</td>\n",
       "      <td>2098</td>\n",
       "      <td>790 3299 4351 3004 1070 383 5598 5640 307 6919...</td>\n",
       "    </tr>\n",
       "  </tbody>\n",
       "</table>\n",
       "<p>200000 rows × 4 columns</p>\n",
       "</div>"
      ],
      "text/plain": [
       "        label                                               text  text_len  \\\n",
       "0           2  2967 6758 339 2021 1854 3731 4109 3792 4149 15...      1057   \n",
       "1          11  4464 486 6352 5619 2465 4802 1452 3137 5778 54...       486   \n",
       "2           3  7346 4068 5074 3747 5681 6093 1777 2226 7354 6...       764   \n",
       "3           2  7159 948 4866 2109 5520 2490 211 3956 5520 549...      1570   \n",
       "4           3  3646 3055 3055 2490 4659 6065 3370 5814 2465 5...       307   \n",
       "5           9  3819 4525 1129 6725 6485 2109 3800 5264 1006 4...      1050   \n",
       "6           3  307 4780 6811 1580 7539 5886 5486 3433 6644 58...       267   \n",
       "7          10  26 4270 1866 5977 3523 3764 4464 3659 4853 517...       876   \n",
       "8          12  2708 2218 5915 4559 886 1241 4819 314 4261 166...       314   \n",
       "9           3  3654 531 1348 29 4553 6722 1474 5099 7541 307 ...      1086   \n",
       "10          0  3659 3659 1903 1866 4326 4744 7239 3479 4261 4...       983   \n",
       "11          7  6469 1066 1623 1018 3694 4089 3809 4516 6656 3...       441   \n",
       "12          4  3772 4269 3433 6122 2035 4531 465 6565 498 358...       446   \n",
       "13          0  4630 2210 1641 1854 1641 4543 3017 4409 5430 6...       191   \n",
       "14          0  1103 6835 3433 2107 5165 7543 3598 5229 1946 2...       723   \n",
       "15          1  4412 5988 5036 4216 7539 5644 1906 2380 2252 6...       857   \n",
       "16          1  2400 4411 5968 2612 6920 4464 3659 6250 2799 5...       206   \n",
       "17          2  2410 6587 6644 2727 4109 5247 5310 5547 5949 7...      1034   \n",
       "18          4  3170 3508 4163 2974 1952 4417 4987 5505 4163 2...       522   \n",
       "19          2  4269 3772 5445 2289 2109 5410 1991 5589 2986 1...       405   \n",
       "20          0  6569 4690 2663 5391 1315 3987 1519 4893 7539 3...      1178   \n",
       "21          1  3017 505 1070 1036 2621 4480 5117 3772 4786 56...       872   \n",
       "22          2  3263 6104 7539 5744 2827 2367 4893 1647 4315 1...       667   \n",
       "23          2  3418 1939 220 6886 623 149 1679 3099 1324 7543...       703   \n",
       "24         12  314 4261 1667 2810 2334 5176 2376 4646 478 132...       434   \n",
       "25          4  7154 2592 5562 2828 4559 2376 5780 3650 3203 5...       597   \n",
       "26          3  1965 2717 2728 1951 3744 4831 5698 3915 5099 5...       292   \n",
       "27          4  6861 6654 1362 4333 3272 1697 7044 1519 4516 4...       306   \n",
       "28          1  1141 5915 6178 4842 6725 7261 7408 4671 6846 5...      1096   \n",
       "29          1  2289 6357 3577 751 2402 3377 5589 4853 7467 51...       489   \n",
       "...       ...                                                ...       ...   \n",
       "199970      7  6835 5296 1854 5036 1844 2400 2438 6093 3961 1...      1502   \n",
       "199971      4  56 4411 5410 1215 3912 1829 6613 1563 4040 125...       514   \n",
       "199972      0  623 6637 6680 4893 4063 6111 5330 2465 1744 41...       824   \n",
       "199973      0  4923 7449 3055 1116 2289 1736 531 7539 5269 18...      2543   \n",
       "199974      1  2642 4909 7306 2549 7539 3107 2549 2328 2164 5...       837   \n",
       "199975      2  3661 1731 6352 3508 531 4998 5315 851 5530 663...      1143   \n",
       "199976      2  6405 3203 6644 4350 3568 5094 5221 4958 3608 7...       204   \n",
       "199977      2  6227 6227 4333 4183 3792 2490 3971 408 671 715...       389   \n",
       "199978      2  4173 5603 4960 150 2679 2376 5530 5057 669 356...      1570   \n",
       "199979      2  6549 2313 3743 6065 4464 7543 4173 2828 3012 5...      1014   \n",
       "199980      5  1334 3923 7532 6045 4553 4775 3018 7013 6983 4...      1687   \n",
       "199981      5  6357 150 4233 23 4811 2334 3317 7010 5282 3971...       701   \n",
       "199982      4  4411 150 5480 307 6973 2364 3648 5370 2380 620...       596   \n",
       "199983      1  847 3809 5385 281 4301 3560 3809 3694 299 6656...       206   \n",
       "199984      0  7544 134 5659 6065 4646 3370 803 469 7047 2415...       615   \n",
       "199985      0  5057 1859 7449 4659 4543 3976 2465 2515 3329 2...      1441   \n",
       "199986      3  141 6956 7528 7495 7354 5681 5530 2112 3000 28...       346   \n",
       "199987      2  3000 3148 5139 5977 2490 1308 5498 2289 2614 2...       447   \n",
       "199988      4  517 5620 2986 7539 2255 3915 5445 1460 6587 42...      1333   \n",
       "199989      1  3469 3772 3117 4413 2313 3743 1070 2107 2621 5...       305   \n",
       "199990      4  6811 1580 7539 6193 5169 7219 2022 5296 2364 4...       123   \n",
       "199991      2  5511 4893 2115 5192 3934 6256 3554 2457 2282 1...      1142   \n",
       "199992      0  3479 6662 1913 4641 2465 2465 495 4516 1146 69...       406   \n",
       "199993      0  1363 4409 2210 3961 5736 2539 3012 2380 5689 2...       180   \n",
       "199994      3  1640 5310 2923 913 7109 6992 6722 6337 3982 73...      3007   \n",
       "199995      2  307 4894 7539 4853 5330 648 6038 4409 3764 603...       868   \n",
       "199996      2  3792 2983 355 1070 4464 5050 6298 3782 3130 68...      1142   \n",
       "199997     11  6811 1580 7539 1252 1899 5139 1386 3870 4124 1...      1180   \n",
       "199998      2  6405 3203 6644 983 794 1913 1678 5736 1397 191...       179   \n",
       "199999      3  4350 3878 3268 1699 6909 5505 2376 2465 6088 2...      2098   \n",
       "\n",
       "                                              text_unique  \n",
       "0       7305 5598 885 307 4148 2192 7440 1991 7029 316...  \n",
       "1       6875 62 1394 307 6395 478 6919 4939 5938 6182 ...  \n",
       "2       4351 383 5598 7025 1325 5640 2192 2570 3263 44...  \n",
       "3       790 1070 1582 5598 307 5284 4148 3469 2192 233...  \n",
       "4       5264 751 1906 462 4351 1043 1722 5909 1394 559...  \n",
       "5       462 4351 1070 5385 1582 5598 307 736 6919 2334...  \n",
       "6       3613 462 5486 5385 1394 5598 307 1519 4939 422...  \n",
       "7       6078 7305 462 6176 1070 6968 383 1582 5598 885...  \n",
       "8       6220 4261 5330 751 1906 790 3223 920 3700 2477...  \n",
       "9       2151 3515 4504 790 1906 4351 531 1871 5486 561...  \n",
       "10      7305 4351 6176 5598 6919 5284 4148 2192 2004 3...  \n",
       "11      1906 2446 1722 6333 1519 307 2674 3335 2004 45...  \n",
       "12      1906 531 6375 1401 4547 1519 2602 736 5037 691...  \n",
       "13      531 6206 2967 826 1702 5778 4399 4412 7008 913...  \n",
       "14      1070 5598 885 3242 307 6375 1255 2838 1407 316...  \n",
       "15      1906 7006 2446 462 5909 62 383 1582 885 1401 1...  \n",
       "16      5612 5640 307 1519 3242 1702 4939 3335 5466 57...  \n",
       "17      7305 1906 4351 426 5006 1070 4993 5909 6333 61...  \n",
       "18      2998 531 5598 307 1702 4939 6759 5284 980 5089...  \n",
       "19      5264 531 5612 62 6414 4547 5598 307 1702 4939 ...  \n",
       "20      4351 6176 383 6968 5598 307 5284 5498 3166 145...  \n",
       "21      2477 790 2446 531 1070 5612 62 5746 5598 3242 ...  \n",
       "22      1906 3613 531 1070 5486 7335 1582 1844 307 503...  \n",
       "23      2477 1906 790 531 5006 6176 2967 1070 1722 139...  \n",
       "24      101 7305 5006 1070 6333 5598 3242 478 1519 307...  \n",
       "25      101 2477 7305 2446 531 1722 5612 6968 5598 140...  \n",
       "26      531 5612 2967 1394 5598 1401 1248 1519 1702 35...  \n",
       "27      7305 761 4509 1394 1582 1844 5598 4547 1519 82...  \n",
       "28      7305 462 5598 885 5640 307 736 6919 5284 4183 ...  \n",
       "29      751 3577 7305 5612 1844 1519 826 1702 6759 414...  \n",
       "...                                                   ...  \n",
       "199970  1070 5598 307 736 4148 2192 2838 7029 3166 628...  \n",
       "199971  2151 2477 1906 3299 531 1722 5612 62 1394 5598...  \n",
       "199972  101 761 3577 3117 6206 1871 5612 5598 1844 885...  \n",
       "199973  790 4351 4335 1582 7025 5598 3242 307 885 736 ...  \n",
       "199974  2151 2446 6206 1722 5612 2967 62 6333 531 5598...  \n",
       "199975  5598 5640 2838 3166 1457 6289 3263 4340 1839 4...  \n",
       "199976  7305 3117 2847 62 1394 5284 4148 2838 1245 207...  \n",
       "199977  5264 4351 3873 5006 62 5598 1844 1519 307 1702...  \n",
       "199978  7305 7223 6176 1070 5598 885 5640 6919 5284 13...  \n",
       "199979  531 5006 6176 1070 62 6333 1394 1722 5617 1582...  \n",
       "199980  7305 3299 6176 5598 7025 5640 6919 2192 5498 1...  \n",
       "199981  2151 7305 2446 6206 1722 5486 5612 6162 1844 1...  \n",
       "199982  1906 790 751 6206 1394 1582 5598 1401 885 307 ...  \n",
       "199983  5264 2477 5385 5598 1519 5037 307 4939 3335 67...  \n",
       "199984  2151 974 3515 2477 751 531 2967 5612 62 6333 3...  \n",
       "199985  7305 1582 5598 885 3242 5640 6919 4148 5284 13...  \n",
       "199986  2151 4351 4205 5486 5612 5598 478 1702 4939 52...  \n",
       "199987  5264 4351 6748 1070 2847 62 2967 1394 5598 736...  \n",
       "199988  7305 3299 5640 5284 2004 2739 3166 1457 6886 2...  \n",
       "199989  2477 7305 3117 1070 5598 3242 1519 307 1702 33...  \n",
       "199990  5264 7399 1351 2446 5039 531 3700 6115 5169 15...  \n",
       "199991  790 6176 1070 4335 5598 7025 885 307 5640 6256...  \n",
       "199992  6875 1043 6206 5909 62 383 5598 1401 307 4939 ...  \n",
       "199993  1906 6206 6333 5598 1844 307 1519 1702 1407 20...  \n",
       "199994  5006 1070 6176 7025 5598 885 4278 6919 2192 20...  \n",
       "199995  761 7006 462 751 3577 1722 5612 1070 5006 6333...  \n",
       "199996  7305 5006 1070 5598 885 307 5284 2192 6223 692...  \n",
       "199997  1070 383 1582 5598 1348 4148 2192 1384 6870 31...  \n",
       "199998  7305 1722 1070 6176 5598 1702 5284 1678 2838 1...  \n",
       "199999  790 3299 4351 3004 1070 383 5598 5640 307 6919...  \n",
       "\n",
       "[200000 rows x 4 columns]"
      ]
     },
     "execution_count": 141,
     "metadata": {},
     "output_type": "execute_result"
    }
   ],
   "source": [
    "df_train['text_unique'] = df_train['text'].apply(lambda x: ' ' .join(list(set(x.split(' ')))))\n",
    "#df_train"
   ]
  },
  {
   "cell_type": "code",
   "execution_count": 142,
   "metadata": {},
   "outputs": [],
   "source": [
    "all_lines1 = ' '.join(list(df_train['text_unique']))\n",
    "word_count1 = Counter(all_lines1.split(\" \"))\n",
    "word_count1 = sorted(word_count1.items(), key=lambda d:int(d[1]), reverse = True)"
   ]
  },
  {
   "cell_type": "code",
   "execution_count": 148,
   "metadata": {},
   "outputs": [
    {
     "name": "stdout",
     "output_type": "stream",
     "text": [
      "('3750', 197997)\n",
      "('900', 197653)\n",
      "('648', 191975)\n",
      "('2465', 177310)\n",
      "('6122', 176543)\n"
     ]
    }
   ],
   "source": [
    "print(word_count1[0])\n",
    "print(word_count1[1])\n",
    "print(word_count1[2])\n",
    "print(word_count1[3])\n",
    "print(word_count1[4])"
   ]
  },
  {
   "cell_type": "markdown",
   "metadata": {},
   "source": [
    "数据分析的结论\n",
    "通过上述分析我们可以得出以下结论：\n",
    "\n",
    "赛题中每个新闻包含的字符个数平均为1000个，还有一些新闻字符较长；\n",
    "赛题中新闻类别分布不均匀，科技类新闻样本量接近4w，星座类新闻样本量不到1k；\n",
    "赛题总共包括7000-8000个字符；"
   ]
  },
  {
   "cell_type": "markdown",
   "metadata": {},
   "source": [
    "通过数据分析，我们还可以得出以下结论：\n",
    "\n",
    "每个新闻平均字符个数较多，可能需要截断；\n",
    "\n",
    "由于类别不均衡，会严重影响模型的精度；\n",
    "\n",
    "本章小结\n",
    "本章对赛题数据进行读取，并新闻句子长度、类别和字符进行了可视化分析。\n"
   ]
  },
  {
   "cell_type": "markdown",
   "metadata": {},
   "source": [
    "本章作业\n",
    "假设字符3750，字符900和字符648是句子的标点符号，请分析赛题每篇新闻平均由多少个句子构成？"
   ]
  },
  {
   "cell_type": "code",
   "execution_count": 163,
   "metadata": {},
   "outputs": [
    {
     "data": {
      "text/plain": [
       "str"
      ]
     },
     "execution_count": 163,
     "metadata": {},
     "output_type": "execute_result"
    }
   ],
   "source": [
    "type(word_count[0][0])\n",
    "#word_count[0][0]"
   ]
  },
  {
   "cell_type": "code",
   "execution_count": 162,
   "metadata": {},
   "outputs": [
    {
     "data": {
      "text/plain": [
       "5298"
      ]
     },
     "execution_count": 162,
     "metadata": {},
     "output_type": "execute_result"
    }
   ],
   "source": [
    "sentence_number = int(word_count[0][0]) + int(word_count[1][0]) + int(word_count[2][0])\n",
    "sentence_number "
   ]
  },
  {
   "cell_type": "code",
   "execution_count": null,
   "metadata": {},
   "outputs": [],
   "source": [
    "统计每类新闻中出现次数对多的字符"
   ]
  },
  {
   "cell_type": "code",
   "execution_count": 182,
   "metadata": {},
   "outputs": [
    {
     "data": {
      "text/plain": [
       "label\n",
       "0     18587\n",
       "1     57921\n",
       "2     41894\n",
       "3     10817\n",
       "4     14928\n",
       "5     15839\n",
       "6     25728\n",
       "7     14469\n",
       "8     15271\n",
       "9     23866\n",
       "10    20622\n",
       "11     5729\n",
       "12     8737\n",
       "13     6399\n",
       "Name: text_len, dtype: int64"
      ]
     },
     "execution_count": 182,
     "metadata": {},
     "output_type": "execute_result"
    }
   ],
   "source": [
    "df2 = df_train.groupby(['label'], sort=True)['text_len'].max()\n",
    "df2"
   ]
  }
 ],
 "metadata": {
  "kernelspec": {
   "display_name": "Python 3",
   "language": "python",
   "name": "python3"
  },
  "language_info": {
   "codemirror_mode": {
    "name": "ipython",
    "version": 3
   },
   "file_extension": ".py",
   "mimetype": "text/x-python",
   "name": "python",
   "nbconvert_exporter": "python",
   "pygments_lexer": "ipython3",
   "version": "3.7.3"
  },
  "toc": {
   "base_numbering": 1,
   "nav_menu": {},
   "number_sections": true,
   "sideBar": true,
   "skip_h1_title": false,
   "title_cell": "Table of Contents",
   "title_sidebar": "Contents",
   "toc_cell": false,
   "toc_position": {},
   "toc_section_display": true,
   "toc_window_display": false
  }
 },
 "nbformat": 4,
 "nbformat_minor": 4
}
